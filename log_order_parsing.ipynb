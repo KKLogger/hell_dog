{
 "cells": [
  {
   "cell_type": "code",
   "execution_count": 1,
   "metadata": {},
   "outputs": [],
   "source": [
    "import pandas as pd\n",
    "import numpy as np"
   ]
  },
  {
   "cell_type": "code",
   "execution_count": 2,
   "metadata": {},
   "outputs": [
    {
     "name": "stdout",
     "output_type": "stream",
     "text": [
      "<class 'pandas.core.frame.DataFrame'>\n",
      "RangeIndex: 1004 entries, 0 to 1003\n",
      "Data columns (total 23 columns):\n",
      " #   Column                              Non-Null Count  Dtype  \n",
      "---  ------                              --------------  -----  \n",
      " 0   Visitor #                           1000 non-null   object \n",
      " 1   Timestamp\n",
      "GMT +9                    1000 non-null   object \n",
      " 2   Visitor Id                          1000 non-null   object \n",
      " 3   Repeat Visitor                      1000 non-null   object \n",
      " 4   Number\n",
      "of Visit                     1000 non-null   float64\n",
      " 5   Visitor Name\n",
      "(Premium)              0 non-null      float64\n",
      " 6   Referrer                            1000 non-null   object \n",
      " 7   Keywords                            213 non-null    object \n",
      " 8   Entrance Page                       1000 non-null   object \n",
      " 9   Visit Duration (seconds)\n",
      "(Premium)  1000 non-null   object \n",
      " 10  Visit Depth\n",
      "(Premium)               1000 non-null   float64\n",
      " 11  Conversions\n",
      "(Premium)               0 non-null      float64\n",
      " 12  Click Path\n",
      "(Premium)                1000 non-null   object \n",
      " 13  IP                                  1000 non-null   object \n",
      " 14  Organization                        1000 non-null   object \n",
      " 15  Country                             1000 non-null   object \n",
      " 16  Region                              994 non-null    object \n",
      " 17  City                                990 non-null    object \n",
      " 18  Postal Code                         993 non-null    object \n",
      " 19  Screen Size                         1000 non-null   object \n",
      " 20  Browser                             1000 non-null   object \n",
      " 21  OS                                  1000 non-null   object \n",
      " 22  User Agent                          1000 non-null   object \n",
      "dtypes: float64(4), object(19)\n",
      "memory usage: 180.5+ KB\n"
     ]
    }
   ],
   "source": [
    "df = pd.read_csv('log_data.CSV',sep=\",\",encoding=\"CP949\")\n",
    "new_df = pd.DataFrame()\n",
    "df.info()"
   ]
  },
  {
   "cell_type": "code",
   "execution_count": 3,
   "metadata": {},
   "outputs": [],
   "source": [
    "raw_url_list = df['Click Path\\n(Premium)']\n",
    "raw_url_list = raw_url_list.replace(np.nan,\"\")\n",
    "url_list=[ x.split('>') for x in raw_url_list ]\n",
    "del_category = np.array([\"contact\",\"for-english\",\"about-studio\",\"news\",\"review-board\",\"grapher\",\"model\",\"music\",\"apply-event\",\"print-copy\",\n",
    "                             \"print\",\"guide-body\",\"map\",\"lesson-photo\",\"reservation-process\",\"retouching-process\",\"after-finish\",\"profile-1\",\"review\",\n",
    "                             \"model-works\",\"first-birthday\",\"couple\",\"tour\",\"event\",\"food\",\"fighter\",\"video-club\",\"video-entertainment\",\"video-excercise\",\n",
    "                            \"video-fashion\",\"video-music\",\"video-sketch\",\"video-wedding\"])\n"
   ]
  },
  {
   "cell_type": "code",
   "execution_count": 4,
   "metadata": {},
   "outputs": [],
   "source": [
    "def parsing(line, search_str):\n",
    "    \n",
    "    keyword_list = []\n",
    "    temp_str = line[search_str-1].split(\">\")\n",
    "    for t_str in temp_str:\n",
    "        if t_str.find(\"com/\") == -1 :\n",
    "            continue\n",
    "        t_str = t_str[t_str.find(\"com/\")+len(\"com/\"):]\n",
    "        keyword_str = t_str[:t_str.find(\"(\")]\n",
    "        keyword_str = keyword_str.replace(\" \",\"\")\n",
    "        seconds = (t_str[t_str.find(\"(\")+len(\"(\"):])[:(t_str[t_str.find(\"(\")+len(\"(\"):]).find(\" \")]\n",
    "        if \"?\" in keyword_str:\n",
    "            keyword_str = keyword_str[:keyword_str.find(\"?\")]\n",
    "        if \"/\" in keyword_str:\n",
    "            keyword_str = keyword_str[:keyword_str.find(\"/\")]\n",
    "\n",
    "        if np.where(keyword_str==del_category)[0].size == 0:\n",
    "            keyword_list.extend([keyword_str,seconds])\n",
    "    return keyword_list"
   ]
  },
  {
   "cell_type": "code",
   "execution_count": 5,
   "metadata": {},
   "outputs": [
    {
     "name": "stdout",
     "output_type": "stream",
     "text": [
      "      0                1    2    3    4    5    6    7    8    9    10   11  \\\n",
      "0      4           street  NaN  NaN  NaN  NaN  NaN  NaN  NaN  NaN  NaN  NaN   \n",
      "1      5             body  NaN  NaN  NaN  NaN  NaN  NaN  NaN  NaN  NaN  NaN   \n",
      "2      7              dog  NaN  NaN  NaN  NaN  NaN  NaN  NaN  NaN  NaN  NaN   \n",
      "3     10             body  NaN  NaN  NaN  NaN  NaN  NaN  NaN  NaN  NaN  NaN   \n",
      "4     12             body  NaN  NaN  NaN  NaN  NaN  NaN  NaN  NaN  NaN  NaN   \n",
      "..   ...              ...  ...  ...  ...  ...  ...  ...  ...  ...  ...  ...   \n",
      "574  989           person  NaN  NaN  NaN  NaN  NaN  NaN  NaN  NaN  NaN  NaN   \n",
      "575  990           street  NaN  NaN  NaN  NaN  NaN  NaN  NaN  NaN  NaN  NaN   \n",
      "576  993  model-and-actor  NaN  NaN  NaN  NaN  NaN  NaN  NaN  NaN  NaN  NaN   \n",
      "577  998             body  NaN  NaN  NaN  NaN  NaN  NaN  NaN  NaN  NaN  NaN   \n",
      "578  999         lookbook  NaN  NaN  NaN  NaN  NaN  NaN  NaN  NaN  NaN  NaN   \n",
      "\n",
      "      12   13   14   15  \n",
      "0    NaN  NaN  NaN  NaN  \n",
      "1    NaN  NaN  NaN  NaN  \n",
      "2    NaN  NaN  NaN  NaN  \n",
      "3    NaN  NaN  NaN  NaN  \n",
      "4    NaN  NaN  NaN  NaN  \n",
      "..   ...  ...  ...  ...  \n",
      "574  NaN  NaN  NaN  NaN  \n",
      "575  NaN  NaN  NaN  NaN  \n",
      "576  NaN  NaN  NaN  NaN  \n",
      "577  NaN  NaN  NaN  NaN  \n",
      "578  NaN  NaN  NaN  NaN  \n",
      "\n",
      "[579 rows x 16 columns]\n"
     ]
    }
   ],
   "source": [
    "for i in range(len(url_list)):\n",
    "    temp = []\n",
    "    if not parsing(url_list[i],0):\n",
    "        continue\n",
    "    else:\n",
    "        temp = temp + [str(i+1)]\n",
    "        for j in range(len(url_list[i])):\n",
    "            if parsing(url_list[i],j):\n",
    "                temp=temp+[parsing(url_list[i],j)[0]]\n",
    "            \n",
    "        new_df=new_df.append([temp],ignore_index=True)\n",
    "            \n",
    "            \n",
    "print(new_df)\n",
    "new_df.to_csv(\"log_order_parsing.csv\",sep=\",\",encoding=\"utf-8-sig\",index=False)"
   ]
  },
  {
   "cell_type": "code",
   "execution_count": null,
   "metadata": {},
   "outputs": [],
   "source": []
  },
  {
   "cell_type": "code",
   "execution_count": null,
   "metadata": {},
   "outputs": [],
   "source": []
  }
 ],
 "metadata": {
  "kernelspec": {
   "display_name": "keras_study",
   "language": "python",
   "name": "keras_study"
  },
  "language_info": {
   "codemirror_mode": {
    "name": "ipython",
    "version": 3
   },
   "file_extension": ".py",
   "mimetype": "text/x-python",
   "name": "python",
   "nbconvert_exporter": "python",
   "pygments_lexer": "ipython3",
   "version": "3.8.5"
  }
 },
 "nbformat": 4,
 "nbformat_minor": 4
}
