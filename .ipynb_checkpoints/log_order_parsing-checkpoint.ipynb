{
 "cells": [
  {
   "cell_type": "code",
   "execution_count": 1,
   "metadata": {},
   "outputs": [],
   "source": [
    "import pandas as pd\n",
    "import numpy as np"
   ]
  },
  {
   "cell_type": "code",
   "execution_count": 2,
   "metadata": {},
   "outputs": [
    {
     "name": "stdout",
     "output_type": "stream",
     "text": [
      "<class 'pandas.core.frame.DataFrame'>\n",
      "RangeIndex: 654 entries, 0 to 653\n",
      "Data columns (total 23 columns):\n",
      " #   Column                              Non-Null Count  Dtype  \n",
      "---  ------                              --------------  -----  \n",
      " 0   Visitor #                           653 non-null    object \n",
      " 1   Timestamp\n",
      "GMT +9                    650 non-null    object \n",
      " 2   Visitor Id                          650 non-null    object \n",
      " 3   Repeat Visitor                      650 non-null    object \n",
      " 4   Number\n",
      "of Visit                     650 non-null    float64\n",
      " 5   Visitor Name\n",
      "(Premium)              0 non-null      float64\n",
      " 6   Referrer                            650 non-null    object \n",
      " 7   Keywords                            122 non-null    object \n",
      " 8   Entrance Page                       650 non-null    object \n",
      " 9   Visit Duration (seconds)\n",
      "(Premium)  650 non-null    object \n",
      " 10  Visit Depth\n",
      "(Premium)               650 non-null    float64\n",
      " 11  Conversions\n",
      "(Premium)               0 non-null      float64\n",
      " 12  Click Path\n",
      "(Premium)                650 non-null    object \n",
      " 13  IP                                  650 non-null    object \n",
      " 14  Organization                        650 non-null    object \n",
      " 15  Country                             650 non-null    object \n",
      " 16  Region                              647 non-null    object \n",
      " 17  City                                643 non-null    object \n",
      " 18  Postal Code                         646 non-null    object \n",
      " 19  Screen Size                         650 non-null    object \n",
      " 20  Browser                             650 non-null    object \n",
      " 21  OS                                  650 non-null    object \n",
      " 22  User Agent                          650 non-null    object \n",
      "dtypes: float64(4), object(19)\n",
      "memory usage: 117.6+ KB\n"
     ]
    }
   ],
   "source": [
    "df = pd.read_csv('log_data.CSV',sep=\",\",encoding=\"CP949\")\n",
    "new_df = pd.DataFrame()\n",
    "df.info()"
   ]
  },
  {
   "cell_type": "code",
   "execution_count": 3,
   "metadata": {},
   "outputs": [],
   "source": [
    "raw_url_list = df['Click Path\\n(Premium)']\n",
    "raw_url_list = raw_url_list.replace(np.nan,\"\")\n",
    "url_list=[ x.split('>') for x in raw_url_list ]\n",
    "del_category = np.array([\"contact\",\"for-english\",\"about-studio\",\"news\",\"review-board\",\"grapher\",\"model\",\"music\",\"apply-event\",\"print-copy\",\"print\",\"guide-body\",\"map\",\n",
    "                        \"lesson-photo\",\"reservation-process\",\"retouching-process\",\"after-finish\",\"profile-1\",\"review\",\"model-works\"])\n",
    "concept_category = np.array(['artwork-dark','artwork-creative-h-and-m','portrait-strong'])\n",
    "outdoor_category = np.array(['evil-omen','good-omen','landscape'])\n",
    "product_category = np.array(['lookbook','uniform','product','food','animalcompany'])\n",
    "fashion_category = np.array(['fashionshow','street'])\n",
    "animal_category  = np.array(['zoo','dog','cat','withyou'])\n",
    "place_category = np.array(['event','panorama','club'])\n",
    "normal_category = np.array(['person','kids','body','seminude','4050','location','group'])\n",
    "celeb_category = np.array(['musician','model-and-actor','ceo','bj'])\n",
    "specialday_category = np.array(['wedding','first-birthday','couple','tour'])\n",
    "video_category = np.array(['video-fashion','video-music','video-exercise','video-club','video-sketch','video-entertainment','video-wedding'])"
   ]
  },
  {
   "cell_type": "code",
   "execution_count": 4,
   "metadata": {},
   "outputs": [],
   "source": [
    "def merge_category(keyword_str):\n",
    "    if np.where(keyword_str==concept_category)[0].size != 0:\n",
    "        return \"concept\"\n",
    "    elif np.where(keyword_str==outdoor_category)[0].size != 0:\n",
    "        return \"outdoor\"\n",
    "    elif np.where(keyword_str==product_category)[0].size != 0:\n",
    "        return \"product\"\n",
    "    elif np.where(keyword_str==fashion_category)[0].size != 0:\n",
    "        return \"fashion\"\n",
    "    elif np.where(keyword_str==animal_category)[0].size != 0:\n",
    "        return \"animal\"\n",
    "    elif np.where(keyword_str==place_category)[0].size != 0:\n",
    "        return \"place\"\n",
    "    elif np.where(keyword_str==normal_category)[0].size != 0:\n",
    "        return \"normal\"\n",
    "    elif np.where(keyword_str==celeb_category)[0].size != 0:\n",
    "        return \"celeb\"\n",
    "    elif np.where(keyword_str==specialday_category)[0].size != 0:\n",
    "        return \"specialday\"\n",
    "    else:\n",
    "        return \"video\"\n",
    "        "
   ]
  },
  {
   "cell_type": "code",
   "execution_count": 5,
   "metadata": {},
   "outputs": [],
   "source": [
    "def parsing(line, search_str):\n",
    "    keyword_list = []\n",
    "    temp_str = line[search_str-1].split(\">\")\n",
    "    for t_str in temp_str:\n",
    "        if t_str.find(\"com/\") == -1 :\n",
    "            continue\n",
    "        t_str = t_str[t_str.find(\"com/\")+len(\"com/\"):]\n",
    "        keyword_str = t_str[:t_str.find(\"(\")]\n",
    "        keyword_str = keyword_str.replace(\" \",\"\")\n",
    "        seconds = (t_str[t_str.find(\"(\")+len(\"(\"):])[:(t_str[t_str.find(\"(\")+len(\"(\"):]).find(\" \")]\n",
    "        if \"?\" in keyword_str:\n",
    "            keyword_str = keyword_str[:keyword_str.find(\"?\")]\n",
    "        if \"/\" in keyword_str:\n",
    "            keyword_str = keyword_str[:keyword_str.find(\"/\")]\n",
    "#         keyword_str = merge_category(keyword_str)\n",
    "        if np.where(keyword_str==del_category)[0].size == 0:\n",
    "            keyword_list.extend([keyword_str,seconds])\n",
    "        # print(\"::::: \"+str)\n",
    "#     print(\"ㅡㅡㅡㅡㅡㅡㅡ완료ㅡㅡㅡㅡㅡㅡㅡㅡㅡ\")\n",
    "    return keyword_list"
   ]
  },
  {
   "cell_type": "code",
   "execution_count": 6,
   "metadata": {},
   "outputs": [
    {
     "name": "stdout",
     "output_type": "stream",
     "text": [
      "      0                1         2    3       4    5    6    7    8    9   \\\n",
      "0      1              dog       NaN  NaN     NaN  NaN  NaN  NaN  NaN  NaN   \n",
      "1      2  model-and-actor       NaN  NaN     NaN  NaN  NaN  NaN  NaN  NaN   \n",
      "2      8             body  seminude  NaN     NaN  NaN  NaN  NaN  NaN  NaN   \n",
      "3     10             body      body   bj     NaN  NaN  NaN  NaN  NaN  NaN   \n",
      "4     13          withyou       dog  dog  person  NaN  NaN  NaN  NaN  NaN   \n",
      "..   ...              ...       ...  ...     ...  ...  ...  ...  ...  ...   \n",
      "392  641  model-and-actor       NaN  NaN     NaN  NaN  NaN  NaN  NaN  NaN   \n",
      "393  646             body       NaN  NaN     NaN  NaN  NaN  NaN  NaN  NaN   \n",
      "394  647         lookbook       NaN  NaN     NaN  NaN  NaN  NaN  NaN  NaN   \n",
      "395  649  model-and-actor       NaN  NaN     NaN  NaN  NaN  NaN  NaN  NaN   \n",
      "396  650             body       NaN  NaN     NaN  NaN  NaN  NaN  NaN  NaN   \n",
      "\n",
      "      10   11   12   13   14   15   16  \n",
      "0    NaN  NaN  NaN  NaN  NaN  NaN  NaN  \n",
      "1    NaN  NaN  NaN  NaN  NaN  NaN  NaN  \n",
      "2    NaN  NaN  NaN  NaN  NaN  NaN  NaN  \n",
      "3    NaN  NaN  NaN  NaN  NaN  NaN  NaN  \n",
      "4    NaN  NaN  NaN  NaN  NaN  NaN  NaN  \n",
      "..   ...  ...  ...  ...  ...  ...  ...  \n",
      "392  NaN  NaN  NaN  NaN  NaN  NaN  NaN  \n",
      "393  NaN  NaN  NaN  NaN  NaN  NaN  NaN  \n",
      "394  NaN  NaN  NaN  NaN  NaN  NaN  NaN  \n",
      "395  NaN  NaN  NaN  NaN  NaN  NaN  NaN  \n",
      "396  NaN  NaN  NaN  NaN  NaN  NaN  NaN  \n",
      "\n",
      "[397 rows x 17 columns]\n"
     ]
    }
   ],
   "source": [
    "for i in range(len(url_list)):\n",
    "    temp = []\n",
    "    if not parsing(url_list[i],0):\n",
    "        continue\n",
    "    else:\n",
    "        temp = temp + [str(i+1)]\n",
    "        for j in range(len(url_list[i])):\n",
    "            if parsing(url_list[i],j):\n",
    "                temp=temp+[parsing(url_list[i],j)[0]]\n",
    "            \n",
    "        new_df=new_df.append([temp],ignore_index=True)\n",
    "            \n",
    "            \n",
    "print(new_df)\n",
    "new_df.to_csv(\"log_order_parsing.csv\",sep=\",\",encoding=\"utf-8-sig\",index=False)"
   ]
  },
  {
   "cell_type": "code",
   "execution_count": null,
   "metadata": {},
   "outputs": [],
   "source": []
  },
  {
   "cell_type": "code",
   "execution_count": null,
   "metadata": {},
   "outputs": [],
   "source": []
  }
 ],
 "metadata": {
  "kernelspec": {
   "display_name": "keras_study",
   "language": "python",
   "name": "keras_study"
  },
  "language_info": {
   "codemirror_mode": {
    "name": "ipython",
    "version": 3
   },
   "file_extension": ".py",
   "mimetype": "text/x-python",
   "name": "python",
   "nbconvert_exporter": "python",
   "pygments_lexer": "ipython3",
   "version": "3.8.5"
  }
 },
 "nbformat": 4,
 "nbformat_minor": 4
}
