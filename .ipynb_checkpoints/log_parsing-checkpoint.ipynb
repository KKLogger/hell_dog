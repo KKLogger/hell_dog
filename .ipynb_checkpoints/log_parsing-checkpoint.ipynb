{
 "cells": [
  {
   "cell_type": "code",
   "execution_count": 1,
   "metadata": {},
   "outputs": [],
   "source": [
    "import pandas as pd\n",
    "import numpy as np"
   ]
  },
  {
   "cell_type": "code",
   "execution_count": 2,
   "metadata": {},
   "outputs": [],
   "source": [
    "df = pd.read_csv('log_data.CSV',sep=\",\",encoding=\"CP949\")\n",
    "new_df = pd.DataFrame()\n",
    "\n",
    "id_list = df[\"Visitor Id\"]\n",
    "\n"
   ]
  },
  {
   "cell_type": "code",
   "execution_count": 3,
   "metadata": {},
   "outputs": [],
   "source": [
    "raw_url_list = df['Click Path\\n(Premium)']\n",
    "raw_url_list = raw_url_list.replace(np.nan,\"\")\n",
    "url_list=[ x.split('>') for x in raw_url_list ]\n",
    "del_category = np.array([\"contact\",\"for-english\",\"about-studio\",\"news\",\"review-board\",\"grapher\",\"model\",\"music\",\"apply-event\",\"print-copy\",\"print\",\"guide-body\",\"map\",\n",
    "                        \"lesson-photo\",\"reservation-process\",\"retouching-process\",\"after-finish\",\"profile-1\",\"review\",\"model-works\"])\n",
    "concept_category = np.array(['artwork-dark','artwork-creative-h-and-m','portrait-strong'])\n",
    "outdoor_category = np.array(['evil-omen','good-omen','landscape'])\n",
    "product_category = np.array(['lookbook','uniform','product','food','animalcompany'])\n",
    "fashion_category = np.array(['fashionshow','street'])\n",
    "animal_category  = np.array(['zoo','dog','cat','withyou'])\n",
    "place_category = np.array(['event','panorama','club'])\n",
    "normal_category = np.array(['person','kids','body','seminude','4050','location','group'])\n",
    "celeb_category = np.array(['musician','model-and-actor','ceo','bj'])\n",
    "specialday_category = np.array(['wedding','first-birthday','couple','tour'])\n",
    "video_category = np.array(['video-fashion','video-music','video-exercise','video-club','video-sketch','video-entertainment','video-wedding'])"
   ]
  },
  {
   "cell_type": "code",
   "execution_count": 4,
   "metadata": {},
   "outputs": [],
   "source": [
    "def merge_category(keyword_str):\n",
    "    if np.where(keyword_str==concept_category)[0].size != 0:\n",
    "        return \"concept\"\n",
    "    elif np.where(keyword_str==outdoor_category)[0].size != 0:\n",
    "        return \"outdoor\"\n",
    "    elif np.where(keyword_str==product_category)[0].size != 0:\n",
    "        return \"product\"\n",
    "    elif np.where(keyword_str==fashion_category)[0].size != 0:\n",
    "        return \"fashion\"\n",
    "    elif np.where(keyword_str==animal_category)[0].size != 0:\n",
    "        return \"animal\"\n",
    "    elif np.where(keyword_str==place_category)[0].size != 0:\n",
    "        return \"place\"\n",
    "    elif np.where(keyword_str==normal_category)[0].size != 0:\n",
    "        return \"normal\"\n",
    "    elif np.where(keyword_str==celeb_category)[0].size != 0:\n",
    "        return \"celeb\"\n",
    "    elif np.where(keyword_str==specialday_category)[0].size != 0:\n",
    "        return \"specialday\"\n",
    "    else:\n",
    "        return \"video\"\n",
    "        \n",
    "        "
   ]
  },
  {
   "cell_type": "code",
   "execution_count": 5,
   "metadata": {},
   "outputs": [],
   "source": [
    "def parsing(line, search_str):\n",
    "    keyword_list = []\n",
    "    temp_str = line[search_str-1].split(\">\")\n",
    "    for t_str in temp_str:\n",
    "        if t_str.find(\"com/\") == -1 :\n",
    "            continue\n",
    "        t_str = t_str[t_str.find(\"com/\")+len(\"com/\"):]\n",
    "        keyword_str = t_str[:t_str.find(\"(\")]\n",
    "        keyword_str = keyword_str.replace(\" \",\"\")\n",
    "        seconds = (t_str[t_str.find(\"(\")+len(\"(\"):])[:(t_str[t_str.find(\"(\")+len(\"(\"):]).find(\" \")]\n",
    "        if \"?\" in keyword_str:\n",
    "            keyword_str = keyword_str[:keyword_str.find(\"?\")]\n",
    "        if \"/\" in keyword_str:\n",
    "            keyword_str = keyword_str[:keyword_str.find(\"/\")]\n",
    "#         keyword_str = merge_category(keyword_str)\n",
    "        if np.where(keyword_str==del_category)[0].size == 0:\n",
    "            keyword_list.extend([keyword_str,seconds])\n",
    "            \n",
    "        \n",
    "    return keyword_list"
   ]
  },
  {
   "cell_type": "code",
   "execution_count": 6,
   "metadata": {},
   "outputs": [],
   "source": [
    "for i in range(len(url_list)):\n",
    "    for j in range(len(url_list[i])):\n",
    "        temp = []\n",
    "        if not parsing(url_list[i],j):\n",
    "            continue\n",
    "        else:\n",
    "            temp=temp+[str(i+1)]\n",
    "            temp=temp+parsing(url_list[i],j)\n",
    "            new_df=new_df.append([temp],ignore_index=True)\n",
    "new_df.rename(columns={0:\"user_Num\"},inplace=True)\n",
    "new_df.rename(columns={1:\"category\"},inplace=True)\n",
    "new_df.rename(columns={2:\"stayTime\"},inplace=True)\n",
    "\n",
    "new_df.to_csv(\"log_parsing.csv\",sep=\",\",encoding=\"utf-8-sig\",index=False)"
   ]
  },
  {
   "cell_type": "code",
   "execution_count": null,
   "metadata": {},
   "outputs": [],
   "source": []
  },
  {
   "cell_type": "code",
   "execution_count": null,
   "metadata": {},
   "outputs": [],
   "source": []
  }
 ],
 "metadata": {
  "kernelspec": {
   "display_name": "keras_study",
   "language": "python",
   "name": "keras_study"
  },
  "language_info": {
   "codemirror_mode": {
    "name": "ipython",
    "version": 3
   },
   "file_extension": ".py",
   "mimetype": "text/x-python",
   "name": "python",
   "nbconvert_exporter": "python",
   "pygments_lexer": "ipython3",
   "version": "3.8.5"
  }
 },
 "nbformat": 4,
 "nbformat_minor": 4
}
