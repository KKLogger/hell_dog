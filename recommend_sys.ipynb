{
 "cells": [
  {
   "cell_type": "code",
   "execution_count": 1,
   "metadata": {},
   "outputs": [],
   "source": [
    "def parsing(line, search_str,del_category):\n",
    "    keyword_list = []\n",
    "    temp_str = line[search_str-1].split(\">\")\n",
    "    for t_str in temp_str:\n",
    "        if t_str.find(\"com/\") == -1 :\n",
    "            continue\n",
    "        t_str = t_str[t_str.find(\"com/\")+len(\"com/\"):]\n",
    "        keyword_str = t_str[:t_str.find(\"(\")]\n",
    "        keyword_str = keyword_str.replace(\" \",\"\")\n",
    "        seconds = int((t_str[t_str.find(\"(\")+len(\"(\"):])[:(t_str[t_str.find(\"(\")+len(\"(\"):]).find(\" \")])\n",
    "        if seconds > 600 :  ##seconds max scale = 600\n",
    "            seconds = 600\n",
    "        if \"?\" in keyword_str:\n",
    "            keyword_str = keyword_str[:keyword_str.find(\"?\")]\n",
    "        if \"/\" in keyword_str:\n",
    "            keyword_str = keyword_str[:keyword_str.find(\"/\")]\n",
    "        if np.where(keyword_str==del_category)[0].size == 0:\n",
    "            keyword_list.extend([keyword_str,seconds])\n",
    "            \n",
    "        \n",
    "    return keyword_list"
   ]
  },
  {
   "cell_type": "code",
   "execution_count": 2,
   "metadata": {},
   "outputs": [],
   "source": [
    "def max_frequency(str_list): ###############???????????????????????????????????????????\n",
    "    count_list = []\n",
    "    for idx in range(len(str_list)):\n",
    "        count_list.append(str_list.count(str_list[idx]))\n",
    "    cnt_max = 0\n",
    "    temp = 0\n",
    "    for idx in range(len(count_list)):\n",
    "        if count_list[idx] > cnt_max :\n",
    "            cnt_max = count_list[idx]\n",
    "            temp = idx\n",
    "            \n",
    "    return str_list[temp]"
   ]
  },
  {
   "cell_type": "code",
   "execution_count": 3,
   "metadata": {},
   "outputs": [],
   "source": [
    "def get_recommend(category,category_data,n):\n",
    "    cosine_sim = get_cosine_sim(category_data,category,n)\n",
    "    euclidean_sim = get_euclidean_sim(category_data,category,n)\n",
    "    #정규화\n",
    "    category_data[\"stayTime\"]=category_data[\"stayTime\"]/category_data[\"stayTime\"].sum()\n",
    "    pearson_sim = get_pearson_sim(category_data,category,n)\n",
    "    manhattan_sim = get_manhatten_sim(category_data,category,n)\n",
    "    vecEuclidean_sim = get_vecEuclidean_sim(category_data,category,n)\n",
    "    first_list=[cosine_sim[0] , euclidean_sim[0] , pearson_sim[0] , manhattan_sim[0] , vecEuclidean_sim[0]]\n",
    "    first_rec=max_frequency(first_list)\n",
    "    \n",
    "    second_list = [cosine_sim[0] , euclidean_sim[0] , pearson_sim[0] , manhattan_sim[0] , vecEuclidean_sim[0],\n",
    "                  cosine_sim[1] , euclidean_sim[1] , pearson_sim[1] , manhattan_sim[1] , vecEuclidean_sim[1]]\n",
    "    while(first_rec in second_list):\n",
    "        second_list.remove(first_rec)\n",
    "        \n",
    "    second_rec=max_frequency(second_list)\n",
    "    \n",
    "    return [first_rec,second_rec]"
   ]
  },
  {
   "cell_type": "code",
   "execution_count": 4,
   "metadata": {},
   "outputs": [],
   "source": [
    "def get_cosine_sim(df,category,n): # sim list 반환\n",
    "    df = df.pivot_table(\"stayTime\",index=\"category\",columns=\"user_Num\")\n",
    "    df.fillna(0,inplace=True)\n",
    "    result = [] # size = 3\n",
    "    from sklearn.metrics.pairwise import cosine_similarity\n",
    "    sim_df = cosine_similarity(df)\n",
    "    sim_df = pd.DataFrame(data=sim_df,index = df.index,columns=df.index)\n",
    "    result = sim_df[category].sort_values(ascending=False)[1:n]\n",
    "    return list(result.keys())"
   ]
  },
  {
   "cell_type": "code",
   "execution_count": 5,
   "metadata": {},
   "outputs": [],
   "source": [
    "def get_euclidean_sim(df,category,n):\n",
    "    df = df.pivot_table(\"stayTime\",index=\"category\",columns=\"user_Num\")\n",
    "    df.fillna(0,inplace=True)\n",
    "    result = [] # size = 3\n",
    "    from sklearn.metrics.pairwise import euclidean_distances\n",
    "    sim_df = euclidean_distances(df)\n",
    "    sim_df = pd.DataFrame(data=sim_df,index = df.index,columns=df.index)\n",
    "    result = sim_df[category].sort_values(ascending=True)[1:n]\n",
    "    return list(result.keys())"
   ]
  },
  {
   "cell_type": "code",
   "execution_count": 6,
   "metadata": {},
   "outputs": [],
   "source": [
    "def get_pearson_sim(df,category,n):\n",
    "    df = df.pivot_table(\"stayTime\",index=\"user_Num\",columns=\"category\")\n",
    "    df.fillna(0,inplace=True)\n",
    "    result = [] # size = 3\n",
    "    sim_df = df.corr(method=\"pearson\")\n",
    "    sim_df = pd.DataFrame(data=sim_df,index = df.columns,columns=df.columns)\n",
    "    result = sim_df[category].sort_values(ascending=False)[1:n]\n",
    "    return list(result.keys())"
   ]
  },
  {
   "cell_type": "code",
   "execution_count": 7,
   "metadata": {},
   "outputs": [],
   "source": [
    "def get_manhatten_sim(df,category,n):\n",
    "    df = df.pivot_table(\"stayTime\",index=\"category\",columns=\"user_Num\")\n",
    "    df.fillna(0,inplace=True)\n",
    "    result = [] # size = 3\n",
    "    from sklearn.metrics.pairwise import manhattan_distances\n",
    "    sim_df = manhattan_distances(df)\n",
    "    sim_df = pd.DataFrame(data=sim_df,index = df.index,columns=df.index)\n",
    "    result = sim_df[category].sort_values(ascending=True)[1:n]\n",
    "    return list(result.keys())"
   ]
  },
  {
   "cell_type": "code",
   "execution_count": 8,
   "metadata": {},
   "outputs": [],
   "source": [
    "def get_vecEuclidean_sim(df,category,n):\n",
    "    df = df.pivot_table(\"stayTime\",index=\"category\",columns=\"user_Num\")\n",
    "    df.fillna(0,inplace=True)\n",
    "    result = [] # size = 3\n",
    "    from sklearn.metrics.pairwise import euclidean_distances\n",
    "    sim_df = euclidean_distances(df)\n",
    "    sim_df = pd.DataFrame(data=sim_df,index = df.index,columns=df.index)\n",
    "    result = sim_df[category].sort_values(ascending=True)[1:n]\n",
    "    return list(result.keys())"
   ]
  },
  {
   "cell_type": "code",
   "execution_count": 9,
   "metadata": {},
   "outputs": [],
   "source": [
    "def get_url_list(df):\n",
    "    raw_url_list = df['Click Path\\n(Premium)']\n",
    "    raw_url_list = raw_url_list.replace(np.nan,\"\")\n",
    "    url_list=[ x.split('>') for x in raw_url_list ]\n",
    "    return url_list"
   ]
  },
  {
   "cell_type": "code",
   "execution_count": 10,
   "metadata": {},
   "outputs": [],
   "source": [
    "def get_parsed_df(df):\n",
    "    url_list = get_url_list(df)\n",
    "    df = pd.DataFrame()\n",
    "    del_category = np.array([\"contact\",\"for-english\",\"about-studio\",\"news\",\"review-board\",\"grapher\",\"model\",\"music\",\"apply-event\",\"print-copy\",\"print\",\"guide-body\",\"map\",\n",
    "                            \"lesson-photo\",\"reservation-process\",\"retouching-process\",\"after-finish\",\"profile-1\",\"review\",\"model-works\"])\n",
    "    for i in range(len(url_list)):\n",
    "        for j in range(len(url_list[i])):\n",
    "            temp = []\n",
    "            if not parsing(url_list[i],j,del_category):\n",
    "                continue\n",
    "            else:\n",
    "                temp=temp+[i+1]\n",
    "                temp=temp+parsing(url_list[i],j,del_category)\n",
    "                df=df.append([temp],ignore_index=True)\n",
    "    df.rename(columns={0:\"user_Num\"},inplace=True)\n",
    "    df.rename(columns={1:\"category\"},inplace=True)\n",
    "    df.rename(columns={2:\"stayTime\"},inplace=True)\n",
    "    return df"
   ]
  },
  {
   "cell_type": "code",
   "execution_count": 11,
   "metadata": {},
   "outputs": [],
   "source": [
    "def get_url(category):\n",
    "    result = dict()\n",
    "    import requests\n",
    "    from bs4 import BeautifulSoup\n",
    "    url = \"https://www.helldog-s.com/\"+category\n",
    "    res = requests.get(url)\n",
    "    soup = BeautifulSoup(res.text,\"html.parser\")\n",
    "    print(soup)"
   ]
  },
  {
   "cell_type": "code",
   "execution_count": 17,
   "metadata": {},
   "outputs": [
    {
     "name": "stdout",
     "output_type": "stream",
     "text": [
      "{'recommend': ['couple', 'first-birthday'], 'img_list': [1, 2, 3]}\n",
      "{'recommend': ['first-birthday', 'tour'], 'img_list': [1, 2, 3]}\n",
      "{'recommend': ['event', 'club'], 'img_list': [1, 2, 3]}\n",
      "{'recommend': ['evil-omen', 'artwork-creative-h-and-m'], 'img_list': [1, 2, 3]}\n",
      "{'recommend': ['first-birthday', 'couple'], 'img_list': [1, 2, 3]}\n",
      "{'recommend': ['seminude', 'bj'], 'img_list': [1, 2, 3]}\n",
      "{'recommend': ['tour', 'first-birthday'], 'img_list': [1, 2, 3]}\n",
      "{'recommend': ['uniform', 'tour'], 'img_list': [1, 2, 3]}\n",
      "{'recommend': ['video-wedding', 'first-birthday'], 'img_list': [1, 2, 3]}\n",
      "{'recommend': ['first-birthday', 'tour'], 'img_list': [1, 2, 3]}\n",
      "{'recommend': ['animalcompany', 'withyou'], 'img_list': [1, 2, 3]}\n",
      "{'recommend': ['first-birthday', 'tour'], 'img_list': [1, 2, 3]}\n",
      "{'recommend': ['artwork-dark', 'artwork-creative-h-and-m'], 'img_list': [1, 2, 3]}\n",
      "{'recommend': ['event', 'first-birthday'], 'img_list': [1, 2, 3]}\n",
      "{'recommend': ['tour', 'first-birthday'], 'img_list': [1, 2, 3]}\n",
      "{'recommend': ['tour', 'couple'], 'img_list': [1, 2, 3]}\n",
      "{'recommend': ['landscape', 'first-birthday'], 'img_list': [1, 2, 3]}\n",
      "{'recommend': ['first-birthday', 'tour'], 'img_list': [1, 2, 3]}\n",
      "{'recommend': ['4050', 'model-and-actor'], 'img_list': [1, 2, 3]}\n",
      "{'recommend': ['ceo', 'tour'], 'img_list': [1, 2, 3]}\n",
      "{'recommend': ['first-birthday', 'tour'], 'img_list': [1, 2, 3]}\n",
      "{'recommend': ['video-wedding', 'club'], 'img_list': [1, 2, 3]}\n",
      "{'recommend': ['uniform', 'landscape'], 'img_list': [1, 2, 3]}\n",
      "{'recommend': ['group', 'fashionshow'], 'img_list': [1, 2, 3]}\n",
      "{'recommend': ['bj', 'first-birthday'], 'img_list': [1, 2, 3]}\n",
      "{'recommend': ['tour', 'location'], 'img_list': [1, 2, 3]}\n",
      "{'recommend': ['bj', 'model-and-actor'], 'img_list': [1, 2, 3]}\n",
      "{'recommend': ['couple', 'good-omen'], 'img_list': [1, 2, 3]}\n",
      "{'recommend': ['first-birthday', 'tour'], 'img_list': [1, 2, 3]}\n",
      "{'recommend': ['good-omen', 'first-birthday'], 'img_list': [1, 2, 3]}\n",
      "{'recommend': ['landscape', 'fashionshow'], 'img_list': [1, 2, 3]}\n",
      "{'recommend': ['first-birthday', 'couple'], 'img_list': [1, 2, 3]}\n",
      "{'recommend': ['ceo', 'first-birthday'], 'img_list': [1, 2, 3]}\n",
      "{'recommend': ['video-entertainment', 'video-fashion'], 'img_list': [1, 2, 3]}\n",
      "{'recommend': ['video-club', 'video-fashion'], 'img_list': [1, 2, 3]}\n",
      "{'recommend': ['first-birthday', 'tour'], 'img_list': [1, 2, 3]}\n",
      "{'recommend': ['video-club', 'event'], 'img_list': [1, 2, 3]}\n",
      "{'recommend': ['first-birthday', 'tour'], 'img_list': [1, 2, 3]}\n",
      "{'recommend': ['video-entertainment', 'video-fashion'], 'img_list': [1, 2, 3]}\n",
      "{'recommend': ['first-birthday', 'panorama'], 'img_list': [1, 2, 3]}\n",
      "{'recommend': ['first-birthday', 'video-wedding'], 'img_list': [1, 2, 3]}\n",
      "{'recommend': ['product', 'dog'], 'img_list': [1, 2, 3]}\n",
      "{'recommend': ['first-birthday', 'tour'], 'img_list': [1, 2, 3]}\n",
      "{'4050': {'recommend': ['couple', 'first-birthday'], 'img_list': [1, 2, 3]}, 'animalcompany': {'recommend': ['first-birthday', 'tour'], 'img_list': [1, 2, 3]}, 'artwork-creative-h-and-m': {'recommend': ['event', 'club'], 'img_list': [1, 2, 3]}, 'artwork-dark': {'recommend': ['evil-omen', 'artwork-creative-h-and-m'], 'img_list': [1, 2, 3]}, 'bj': {'recommend': ['first-birthday', 'couple'], 'img_list': [1, 2, 3]}, 'body': {'recommend': ['seminude', 'bj'], 'img_list': [1, 2, 3]}, 'cat': {'recommend': ['tour', 'first-birthday'], 'img_list': [1, 2, 3]}, 'ceo': {'recommend': ['uniform', 'tour'], 'img_list': [1, 2, 3]}, 'club': {'recommend': ['video-wedding', 'first-birthday'], 'img_list': [1, 2, 3]}, 'couple': {'recommend': ['first-birthday', 'tour'], 'img_list': [1, 2, 3]}, 'dog': {'recommend': ['animalcompany', 'withyou'], 'img_list': [1, 2, 3]}, 'event': {'recommend': ['first-birthday', 'tour'], 'img_list': [1, 2, 3]}, 'evil-omen': {'recommend': ['artwork-dark', 'artwork-creative-h-and-m'], 'img_list': [1, 2, 3]}, 'fashionshow': {'recommend': ['event', 'first-birthday'], 'img_list': [1, 2, 3]}, 'fighter': {'recommend': ['tour', 'first-birthday'], 'img_list': [1, 2, 3]}, 'first-birthday': {'recommend': ['tour', 'couple'], 'img_list': [1, 2, 3]}, 'food': {'recommend': ['landscape', 'first-birthday'], 'img_list': [1, 2, 3]}, 'good-omen': {'recommend': ['first-birthday', 'tour'], 'img_list': [1, 2, 3]}, 'group': {'recommend': ['4050', 'model-and-actor'], 'img_list': [1, 2, 3]}, 'kids': {'recommend': ['ceo', 'tour'], 'img_list': [1, 2, 3]}, 'landscape': {'recommend': ['first-birthday', 'tour'], 'img_list': [1, 2, 3]}, 'location': {'recommend': ['video-wedding', 'club'], 'img_list': [1, 2, 3]}, 'lookbook': {'recommend': ['uniform', 'landscape'], 'img_list': [1, 2, 3]}, 'model-and-actor': {'recommend': ['group', 'fashionshow'], 'img_list': [1, 2, 3]}, 'musician': {'recommend': ['bj', 'first-birthday'], 'img_list': [1, 2, 3]}, 'panorama': {'recommend': ['tour', 'location'], 'img_list': [1, 2, 3]}, 'person': {'recommend': ['bj', 'model-and-actor'], 'img_list': [1, 2, 3]}, 'portrait-strong': {'recommend': ['couple', 'good-omen'], 'img_list': [1, 2, 3]}, 'product': {'recommend': ['first-birthday', 'tour'], 'img_list': [1, 2, 3]}, 'seminude': {'recommend': ['good-omen', 'first-birthday'], 'img_list': [1, 2, 3]}, 'street': {'recommend': ['landscape', 'fashionshow'], 'img_list': [1, 2, 3]}, 'tour': {'recommend': ['first-birthday', 'couple'], 'img_list': [1, 2, 3]}, 'uniform': {'recommend': ['ceo', 'first-birthday'], 'img_list': [1, 2, 3]}, 'video-club': {'recommend': ['video-entertainment', 'video-fashion'], 'img_list': [1, 2, 3]}, 'video-entertainment': {'recommend': ['video-club', 'video-fashion'], 'img_list': [1, 2, 3]}, 'video-excercise': {'recommend': ['first-birthday', 'tour'], 'img_list': [1, 2, 3]}, 'video-fashion': {'recommend': ['video-club', 'event'], 'img_list': [1, 2, 3]}, 'video-music': {'recommend': ['first-birthday', 'tour'], 'img_list': [1, 2, 3]}, 'video-sketch': {'recommend': ['video-entertainment', 'video-fashion'], 'img_list': [1, 2, 3]}, 'video-wedding': {'recommend': ['first-birthday', 'panorama'], 'img_list': [1, 2, 3]}, 'wedding': {'recommend': ['first-birthday', 'video-wedding'], 'img_list': [1, 2, 3]}, 'withyou': {'recommend': ['product', 'dog'], 'img_list': [1, 2, 3]}, 'zoo': {'recommend': ['first-birthday', 'tour'], 'img_list': [1, 2, 3]}}\n"
     ]
    }
   ],
   "source": [
    "import numpy as np\n",
    "import pandas as pd\n",
    "import json\n",
    "from collections import OrderedDict\n",
    "result = dict()\n",
    "recommend_size = 3\n",
    "org_df = pd.read_csv('log_data.CSV',sep=\",\",encoding=\"CP949\")\n",
    "df=get_parsed_df(org_df)\n",
    "category_list = np.unique(df[\"category\"])\n",
    "# print(len(category_list))\n",
    "# print(category_list)\n",
    "for category in category_list:\n",
    "# category=\"wedding\"\n",
    "    temp =dict()\n",
    "    temp[\"recommend\"] = get_recommend(category,df,recommend_size)\n",
    "    temp[\"img_list\"] = [1,2,3]\n",
    "    result[category] = temp\n",
    "with open(\"recommend_category.json\",\"w\") as w:\n",
    "    json.dump(result,w,indent=\"\\t\")\n",
    "# print(result)"
   ]
  },
  {
   "cell_type": "code",
   "execution_count": null,
   "metadata": {},
   "outputs": [],
   "source": []
  },
  {
   "cell_type": "code",
   "execution_count": null,
   "metadata": {},
   "outputs": [],
   "source": []
  },
  {
   "cell_type": "code",
   "execution_count": null,
   "metadata": {},
   "outputs": [],
   "source": []
  },
  {
   "cell_type": "code",
   "execution_count": null,
   "metadata": {},
   "outputs": [],
   "source": []
  }
 ],
 "metadata": {
  "kernelspec": {
   "display_name": "keras_study",
   "language": "python",
   "name": "keras_study"
  },
  "language_info": {
   "codemirror_mode": {
    "name": "ipython",
    "version": 3
   },
   "file_extension": ".py",
   "mimetype": "text/x-python",
   "name": "python",
   "nbconvert_exporter": "python",
   "pygments_lexer": "ipython3",
   "version": "3.8.5"
  }
 },
 "nbformat": 4,
 "nbformat_minor": 4
}
