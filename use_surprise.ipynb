{
 "cells": [
  {
   "cell_type": "code",
   "execution_count": 45,
   "metadata": {},
   "outputs": [],
   "source": [
    "import pandas as pd\n",
    "import numpy as np\n",
    "from surprise import NMF,Reader,Dataset\n",
    "from surprise.model_selection import cross_validate\n",
    "from surprise import accuracy"
   ]
  },
  {
   "cell_type": "code",
   "execution_count": 96,
   "metadata": {},
   "outputs": [
    {
     "data": {
      "text/plain": [
       "array(['dog', 'model-and-actor', 'retouching-process', 'news', 'map',\n",
       "       'model', 'lesson-photo', 'body', 'seminude', 'bj', 'withyou',\n",
       "       'print', 'person', 'grapher', 'print-copy', 'contact',\n",
       "       'animalcompany', 'artwork-dark', 'for-english', 'wedding',\n",
       "       'about-studio', 'music', 'video-excercise', 'video-fashion',\n",
       "       'event', 'artwork-creative-h-and-m', 'evil-omen', 'guide-body',\n",
       "       'kids', 'group', 'musician', 'lookbook', 'product',\n",
       "       'video-entertainment', 'food', 'zoo', '4050',\n",
       "       'reservation-process', 'ceo', 'video-wedding', 'cat', 'video-club',\n",
       "       'video-music', 'video-sketch', 'review-board', 'location',\n",
       "       'couple', 'landscape', 'uniform', 'fashionshow', 'street', 'club',\n",
       "       'portrait-strong', 'good-omen',\n",
       "       'profile-1/helltographer/followers', 'apply-event', 'model-works',\n",
       "       'after-finish', 'panorama', 'tour',\n",
       "       'review-board/hugigesipan-cwalyeong-reseun/kamera-sueob-hugi',\n",
       "       'review',\n",
       "       'review-board/hugigesipan-cwalyeong-reseun/myujisyeon-peuropil-mic-aelbeom-jakes-sajincwalyeong',\n",
       "       'first-birthday'], dtype=object)"
      ]
     },
     "execution_count": 96,
     "metadata": {},
     "output_type": "execute_result"
    }
   ],
   "source": [
    "df = pd.read_csv(\"log_parsing.csv\")\n",
    "idx = df[df[\"stayTime\"]==0].index\n",
    "df = df.drop(idx)\n",
    "df.columns = [\"userID\",\"itemID\",\"rating\"]\n",
    "# df['rating']=(df['rating']-df['rating'].mean())/df['rating'].std()\n",
    "df[\"userID\"]=1\n",
    "category = df[\"itemID\"].unique()\n"
   ]
  },
  {
   "cell_type": "code",
   "execution_count": 100,
   "metadata": {},
   "outputs": [],
   "source": [
    "# reader = Reader(rating_scale=(df.min().rating,df.max().rating))\n",
    "reader = Reader(rating_scale=(1,10))\n",
    "data = Dataset.load_from_df(df,reader)\n",
    "data = data.build_full_trainset()\n"
   ]
  },
  {
   "cell_type": "code",
   "execution_count": 101,
   "metadata": {},
   "outputs": [
    {
     "data": {
      "text/plain": [
       "[('dog', 5.895838335297237),\n",
       " ('model-and-actor', 4.588869785899986),\n",
       " ('retouching-process', 6.921288919703759),\n",
       " ('news', 10),\n",
       " ('map', 8.592217999843387),\n",
       " ('model', 5.020060543533219),\n",
       " ('lesson-photo', 10),\n",
       " ('body', 10),\n",
       " ('seminude', 4.677384379764299),\n",
       " ('bj', 3.428785199003042),\n",
       " ('withyou', 10),\n",
       " ('print', 2.5923225444218265),\n",
       " ('person', 5.704393658247486),\n",
       " ('grapher', 8.463859749890265),\n",
       " ('print-copy', 3.9309992886431786),\n",
       " ('contact', 7.6052431050977045),\n",
       " ('animalcompany', 3.9806718902817404),\n",
       " ('artwork-dark', 3.58571435701004),\n",
       " ('for-english', 4.940538421319728),\n",
       " ('wedding', 2.687484308880475),\n",
       " ('about-studio', 10),\n",
       " ('music', 1.6573405456522665),\n",
       " ('video-excercise', 2.5676507623594675),\n",
       " ('video-fashion', 4.555367464617571),\n",
       " ('event', 2.2311934837008547),\n",
       " ('artwork-creative-h-and-m', 2.1808833923467037),\n",
       " ('evil-omen', 2.4532864747276513),\n",
       " ('guide-body', 10),\n",
       " ('kids', 3.029622737494499),\n",
       " ('group', 10),\n",
       " ('musician', 4.853583620551586),\n",
       " ('lookbook', 6.541623165388946),\n",
       " ('product', 5.292965139975081),\n",
       " ('video-entertainment', 8.499704752852637),\n",
       " ('food', 3.081138952715369),\n",
       " ('zoo', 2.8151469920002556),\n",
       " ('4050', 3.628661175232811),\n",
       " ('reservation-process', 6.109199928820741),\n",
       " ('ceo', 6.168799925602737),\n",
       " ('video-wedding', 10),\n",
       " ('cat', 4.391484927955484),\n",
       " ('video-club', 10),\n",
       " ('video-music', 6.09162767420915),\n",
       " ('video-sketch', 10),\n",
       " ('review-board', 10),\n",
       " ('location', 3.156846007633582),\n",
       " ('couple', 1.097799457480325),\n",
       " ('landscape', 3.966584986767779),\n",
       " ('uniform', 5.538881159464691),\n",
       " ('fashionshow', 7.118072896025467),\n",
       " ('street', 7.915558674636477),\n",
       " ('club', 2.018650484079811),\n",
       " ('portrait-strong', 3.222632820342747),\n",
       " ('good-omen', 2.266590072788956),\n",
       " ('profile-1/helltographer/followers', 1),\n",
       " ('apply-event', 7.862410447558809),\n",
       " ('model-works', 4.036896622841691),\n",
       " ('after-finish', 10),\n",
       " ('panorama', 5.4712903120606065),\n",
       " ('tour', 1),\n",
       " ('review-board/hugigesipan-cwalyeong-reseun/kamera-sueob-hugi',\n",
       "  1.2749011262778251),\n",
       " ('review', 10),\n",
       " ('review-board/hugigesipan-cwalyeong-reseun/myujisyeon-peuropil-mic-aelbeom-jakes-sajincwalyeong',\n",
       "  1),\n",
       " ('first-birthday', 1)]"
      ]
     },
     "execution_count": 101,
     "metadata": {},
     "output_type": "execute_result"
    }
   ],
   "source": [
    "#알고리즘 적용\n",
    "#NMF은 데이터 셋에 0이 있으면 Division Error 반환\n",
    "algo = NMF()\n",
    "#학습\n",
    "# algo.fit(data)\n",
    "# cross_validate(algo,data,measures=['RMSE','MAE'],verbose=False)\n",
    "algo.fit(data)\n",
    "rec_list = []\n",
    "for iid in category:\n",
    "    rec_list.append((iid,algo.predict(uid=1,iid=iid).est))\n",
    "rec_list"
   ]
  },
  {
   "cell_type": "code",
   "execution_count": null,
   "metadata": {},
   "outputs": [],
   "source": []
  },
  {
   "cell_type": "code",
   "execution_count": null,
   "metadata": {},
   "outputs": [],
   "source": []
  },
  {
   "cell_type": "code",
   "execution_count": null,
   "metadata": {},
   "outputs": [],
   "source": []
  }
 ],
 "metadata": {
  "kernelspec": {
   "display_name": "keras_study",
   "language": "python",
   "name": "keras_study"
  },
  "language_info": {
   "codemirror_mode": {
    "name": "ipython",
    "version": 3
   },
   "file_extension": ".py",
   "mimetype": "text/x-python",
   "name": "python",
   "nbconvert_exporter": "python",
   "pygments_lexer": "ipython3",
   "version": "3.8.5"
  }
 },
 "nbformat": 4,
 "nbformat_minor": 4
}
